{
 "cells": [
  {
   "cell_type": "code",
   "execution_count": 2,
   "id": "77e6e068-a2ac-4697-8902-231a8b8f8ae6",
   "metadata": {},
   "outputs": [
    {
     "name": "stdout",
     "output_type": "stream",
     "text": [
      "Requirement already satisfied: numpy in /opt/anaconda3/lib/python3.12/site-packages (1.26.4)\n",
      "Note: you may need to restart the kernel to use updated packages.\n"
     ]
    }
   ],
   "source": [
    "pip install numpy"
   ]
  },
  {
   "cell_type": "code",
   "execution_count": 4,
   "id": "72ee7a59-417c-4cee-8856-cafa628482bb",
   "metadata": {},
   "outputs": [],
   "source": [
    "import numpy as np"
   ]
  },
  {
   "cell_type": "markdown",
   "id": "83fbe22a-cc23-4eb3-96c4-2cf064713bf1",
   "metadata": {},
   "source": [
    "array()"
   ]
  },
  {
   "cell_type": "code",
   "execution_count": 6,
   "id": "cf8471ef-a4d9-4b57-9d09-d75b211ae1c7",
   "metadata": {},
   "outputs": [
    {
     "name": "stdout",
     "output_type": "stream",
     "text": [
      "[1 2 3 4 5 6 7]\n"
     ]
    }
   ],
   "source": [
    "import numpy as np\n",
    "x=np.array([1,2,3,4,5,6,7])\n",
    "print(x)"
   ]
  },
  {
   "cell_type": "code",
   "execution_count": 8,
   "id": "83cc02ea-777f-4689-87e4-ee28705619b9",
   "metadata": {},
   "outputs": [
    {
     "name": "stdout",
     "output_type": "stream",
     "text": [
      "[[1 2 3]\n",
      " [4 5 6]]\n"
     ]
    }
   ],
   "source": [
    "import numpy as np\n",
    "x=np.array([[1,2,3],[4,5,6]])\n",
    "print(x)"
   ]
  },
  {
   "cell_type": "code",
   "execution_count": 10,
   "id": "1a6b64af-e4d4-40b4-b3c2-f783fe5ca45d",
   "metadata": {},
   "outputs": [
    {
     "name": "stdout",
     "output_type": "stream",
     "text": [
      "[[1 2 3 4 5 6 7]]\n"
     ]
    }
   ],
   "source": [
    "import numpy as np\n",
    "x=np.array([1,2,3,4,5,6,7],ndmin=2)\n",
    "print(x)"
   ]
  },
  {
   "cell_type": "markdown",
   "id": "533c4e0f-2271-450a-9b40-9d17f744d915",
   "metadata": {},
   "source": [
    "import numpy as np\n",
    "x=np.array([1,2,3,4,5,6,7])\n",
    "print(x)"
   ]
  },
  {
   "cell_type": "code",
   "execution_count": 17,
   "id": "64ae7807-5427-4864-9edd-eaf75e65e764",
   "metadata": {},
   "outputs": [
    {
     "name": "stdout",
     "output_type": "stream",
     "text": [
      "[1.+0.j 2.+0.j 3.+0.j 4.+0.j 5.+0.j 6.+0.j 7.+0.j]\n"
     ]
    }
   ],
   "source": [
    "import numpy as np\n",
    "x=np.array([1,2,3,4,5,6,7],dtype=complex)\n",
    "print(x)"
   ]
  },
  {
   "cell_type": "code",
   "execution_count": 28,
   "id": "0b4ef358-8da6-4a3d-8d21-9cb5e1c38708",
   "metadata": {},
   "outputs": [
    {
     "name": "stdout",
     "output_type": "stream",
     "text": [
      "Array:\n",
      "[[1 2 3]\n",
      " [4 5 6]]\n",
      "Shape: (2, 3)\n",
      "Strides: (24, 8)\n"
     ]
    }
   ],
   "source": [
    "import numpy as np\n",
    "\n",
    "# Creating a 2x3 array in row-major order\n",
    "a = np.array([[1, 2, 3], [4, 5, 6]])\n",
    "print(\"Array:\")\n",
    "print(a)\n",
    "print(\"Shape:\", a.shape)\n",
    "print(\"Strides:\", a.strides)"
   ]
  },
  {
   "cell_type": "markdown",
   "id": "1998be46-a444-4a1e-8b79-20ed8013f322",
   "metadata": {},
   "source": [
    "[[1 2 3]\n",
    " [4 5 6]]\n",
    "row major= 1 2 3 4 5 6  column maojr= 1 ,4 ,2,5,3,6"
   ]
  },
  {
   "cell_type": "markdown",
   "id": "724ed486-7f31-45c9-bc3f-4b8b507ec7c7",
   "metadata": {},
   "source": [
    "'b' − boolean\n",
    "\n",
    "'i' − (signed) integer\n",
    "\n",
    "'u' − unsigned integer\n",
    "\n",
    "'f' − floating-point\n",
    "\n",
    "'c' − complex-floating point\n",
    "\n",
    "'m' − timedelta\n",
    "\n",
    "'M' − datetime\n",
    "\n",
    "'O' − (Python) objects\n",
    "\n",
    "'S', 'a' − (byte-)string\n",
    "\n",
    "'U' − Unicode\n",
    "\n",
    "'V' − raw data (void)"
   ]
  },
  {
   "cell_type": "markdown",
   "id": "91ffd9b6-d8dd-4ecd-80c0-fe6476d29f4b",
   "metadata": {},
   "source": [
    "# Strides"
   ]
  },
  {
   "cell_type": "markdown",
   "id": "80a73405-ee77-426a-81ab-0c8a11035b0a",
   "metadata": {},
   "source": [
    " Strides are a concept used to define how the array data is stored in memory .\n",
    "They indicate the number of bytes to step in each dimension when traversing an array."
   ]
  },
  {
   "cell_type": "code",
   "execution_count": 2,
   "id": "33786284-da2e-4ff8-a649-fa276278d8cd",
   "metadata": {},
   "outputs": [],
   "source": [
    "import numpy as np"
   ]
  },
  {
   "cell_type": "code",
   "execution_count": 3,
   "id": "1ea9fa16-da31-4a6d-a2a0-3e22449e5da4",
   "metadata": {},
   "outputs": [
    {
     "name": "stdout",
     "output_type": "stream",
     "text": [
      "Array:\n",
      " [[1 2 3]\n",
      " [4 5 6]]\n",
      "Strides: (12, 4)\n"
     ]
    }
   ],
   "source": [
    "arr=np.array([[1,2,3],[4,5,6]])\n",
    "print(\"Array:\\n\",arr)\n",
    "print(\"Strides:\",arr.strides)"
   ]
  },
  {
   "cell_type": "markdown",
   "id": "38beb06a-45ca-4958-b2ad-48030635ad68",
   "metadata": {},
   "source": [
    "12 is the number of bytes to jump to go to the next row (since a row contains 3 elements, and each element is 4 bytes, i.e. 3*4=12)"
   ]
  },
  {
   "cell_type": "markdown",
   "id": "ef00deac-127b-40af-9be1-18bad8d5bffa",
   "metadata": {},
   "source": [
    "By default array is row major in memory . when order='F' , array is column major in memory\n"
   ]
  },
  {
   "cell_type": "markdown",
   "id": "56449d4e-353e-4c61-bd6e-dcd4170471bd",
   "metadata": {},
   "source": [
    "In Strides, 1st index shows how many bytes we need to go to the next axis(row) and 2nd index shows \n",
    "how many bytes we need to go to the next element(according to the row major(displayor code)"
   ]
  },
  {
   "cell_type": "code",
   "execution_count": 30,
   "id": "2b60de30-894a-4d50-94a1-ca14e7ddfa11",
   "metadata": {},
   "outputs": [
    {
     "name": "stdout",
     "output_type": "stream",
     "text": [
      "Array:\n",
      "[[1 2 3]\n",
      " [4 5 6]]\n",
      "Shape: (2, 3)\n",
      "Strides: (8, 16)\n"
     ]
    }
   ],
   "source": [
    "import numpy as np\n",
    "\n",
    "# Creating a 2x3 array in column-major order\n",
    "a = np.array([[1, 2, 3], [4, 5, 6]], order='F')\n",
    "print(\"Array:\")\n",
    "print(a)\n",
    "print(\"Shape:\", a.shape)\n",
    "print(\"Strides:\", a.strides)"
   ]
  },
  {
   "cell_type": "code",
   "execution_count": null,
   "id": "b6783416-c44c-4d0b-9110-a28f1756e143",
   "metadata": {},
   "outputs": [],
   "source": [
    "row major= 1 2 3 4 5 6 column maojr= 1 ,4 ,2,5,3,6"
   ]
  },
  {
   "cell_type": "code",
   "execution_count": 32,
   "id": "f66e750b-f2a6-4635-8f8a-9327fca734e8",
   "metadata": {},
   "outputs": [
    {
     "name": "stdout",
     "output_type": "stream",
     "text": [
      "int32\n"
     ]
    }
   ],
   "source": [
    "import numpy as np\n",
    "dt = np.dtype(np.int32)\n",
    "print(dt)"
   ]
  },
  {
   "cell_type": "code",
   "execution_count": 46,
   "id": "ae0004df-8b33-4980-a9ac-8f3382169bab",
   "metadata": {},
   "outputs": [
    {
     "name": "stdout",
     "output_type": "stream",
     "text": [
      "[(10,) (20,) (30,)]\n",
      "[10 20 30]\n"
     ]
    }
   ],
   "source": [
    "import numpy as np\n",
    "dt = np.dtype([('age', np.int8)])\n",
    "a = np.array([(10), (20), (30)], dtype=dt)\n",
    "print(a)\n",
    "print(a['age'])"
   ]
  },
  {
   "cell_type": "markdown",
   "id": "ea079c30-c209-4766-9a01-c5f29794617a",
   "metadata": {},
   "source": [
    "array creation:\n",
    "1.array() fuction \n",
    "2.zeors()\n",
    "3.ones()\n",
    "4.arrange()\n",
    "5.linespace()\n",
    "6.random.rand()\n",
    "7.empty()\n",
    "8.full()"
   ]
  },
  {
   "cell_type": "code",
   "execution_count": 48,
   "id": "9dc0fa67-98b7-43ba-8746-8f298de92bf0",
   "metadata": {},
   "outputs": [
    {
     "name": "stdout",
     "output_type": "stream",
     "text": [
      "1D Array: [1 2 3 4 5]\n"
     ]
    }
   ],
   "source": [
    "import numpy as np\n",
    "\n",
    "# Creating a 1D array from a list\n",
    "my_list = [1, 2, 3, 4, 5]\n",
    "my_array = np.array(my_list)\n",
    "\n",
    "print(\"1D Array:\", my_array)"
   ]
  },
  {
   "cell_type": "code",
   "execution_count": 50,
   "id": "014814ae-d504-45b8-8bd2-b67e7e870bfe",
   "metadata": {},
   "outputs": [
    {
     "name": "stdout",
     "output_type": "stream",
     "text": [
      "2D Array:\n",
      " [[1 2 3]\n",
      " [4 5 6]]\n"
     ]
    }
   ],
   "source": [
    "import numpy as np\n",
    "\n",
    "# Creating a 2D array from a list of lists\n",
    "arr = np.array([[1, 2, 3], [4, 5, 6]])\n",
    "\n",
    "print(\"2D Array:\\n\", arr)"
   ]
  },
  {
   "cell_type": "code",
   "execution_count": null,
   "id": "f8b75416-7afa-4f5f-880f-48a26983c0c9",
   "metadata": {},
   "outputs": [],
   "source": [
    "numpy.zeros(shape, dtype=float, order='C')"
   ]
  },
  {
   "cell_type": "code",
   "execution_count": 64,
   "id": "e7388b11-f1cb-4ec7-8c44-90f0993674f9",
   "metadata": {},
   "outputs": [
    {
     "name": "stdout",
     "output_type": "stream",
     "text": [
      "[[0 0 0]\n",
      " [0 0 0]\n",
      " [0 0 0]]\n"
     ]
    }
   ],
   "source": [
    "import numpy as np\n",
    "\n",
    "# Creating an array of zeros \n",
    "arr = np.zeros((3,3),dtype=int, order='F')\n",
    "print(arr)"
   ]
  },
  {
   "cell_type": "code",
   "execution_count": null,
   "id": "60206d8f-3ac7-46f3-b01f-9df1d9daa4f7",
   "metadata": {},
   "outputs": [],
   "source": [
    "numpy.ones(shape, dtype=None, order='C')"
   ]
  },
  {
   "cell_type": "code",
   "execution_count": null,
   "id": "588e22ef-0175-4ef8-9481-757ab04252df",
   "metadata": {},
   "outputs": [],
   "source": [
    "\n",
    "numpy.arange([start,] stop[, step,] dtype=None)\n"
   ]
  },
  {
   "cell_type": "code",
   "execution_count": 70,
   "id": "5472b7bd-29b0-4ef6-8d55-bf36ef166b41",
   "metadata": {},
   "outputs": [
    {
     "name": "stdout",
     "output_type": "stream",
     "text": [
      "array1: [0 1 2 3 4 5 6 7 8 9]\n",
      "array2: [ 1  4  7 10 13 16 19]\n"
     ]
    }
   ],
   "source": [
    "import numpy as np\n",
    "\n",
    "# Providing just the stop value\n",
    "array1 = np.arange(10)\n",
    "print(\"array1:\", array1)\n",
    "\n",
    "# Providing start, stop and step value\n",
    "array2 = np.arange(1, 20, 3)\n",
    "print(\"array2:\",array2)"
   ]
  },
  {
   "cell_type": "code",
   "execution_count": null,
   "id": "4646f66c-019a-4626-a0e3-f7e77127b8ea",
   "metadata": {},
   "outputs": [],
   "source": []
  }
 ],
 "metadata": {
  "kernelspec": {
   "display_name": "Python 3 (ipykernel)",
   "language": "python",
   "name": "python3"
  },
  "language_info": {
   "codemirror_mode": {
    "name": "ipython",
    "version": 3
   },
   "file_extension": ".py",
   "mimetype": "text/x-python",
   "name": "python",
   "nbconvert_exporter": "python",
   "pygments_lexer": "ipython3",
   "version": "3.12.3"
  }
 },
 "nbformat": 4,
 "nbformat_minor": 5
}
